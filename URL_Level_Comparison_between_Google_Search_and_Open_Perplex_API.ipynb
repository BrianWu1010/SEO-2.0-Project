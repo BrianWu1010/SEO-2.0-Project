{
  "nbformat": 4,
  "nbformat_minor": 0,
  "metadata": {
    "colab": {
      "provenance": [],
      "toc_visible": true
    },
    "kernelspec": {
      "name": "python3",
      "display_name": "Python 3"
    },
    "language_info": {
      "name": "python"
    }
  },
  "cells": [
    {
      "cell_type": "markdown",
      "source": [
        "## Google Search versus Open Perplex"
      ],
      "metadata": {
        "id": "LXrJ3nGsZLG5"
      }
    },
    {
      "cell_type": "markdown",
      "source": [
        "### Preparation"
      ],
      "metadata": {
        "id": "wPy2p0SavK2O"
      }
    },
    {
      "cell_type": "code",
      "source": [
        "PERPLEXITY_API_KEY = \"your perplexity api key\"\n",
        "client_sync = OpenperplexSync(PERPLEXITY_API_KEY)\n",
        "\n",
        "def extract_product_info(response_text):\n",
        "    product_info = []\n",
        "    # Split the response into blocks for each product (assuming each block starts with \"Product Title:\")\n",
        "    product_blocks = response_text.strip().split('\\n\\n')\n",
        "    for block in product_blocks:\n",
        "        # Look for each product's information using the exact format\n",
        "        title_match = re.search(r\"Product Title:\\s*(.*)\", block)\n",
        "        description_match = re.search(r\"Description:\\s*(.*)\", block)\n",
        "        brand_match = re.search(r\"Brand:\\s*(.*)\", block)\n",
        "        retailer_match = re.search(r\"Retailer:\\s*(.*)\", block)\n",
        "        source_match = re.search(r\"Source URL:\\s*(http[s]?://\\S+)\", block)\n",
        "        comments_match = re.search(r\"Comments:\\s*(.*)\", block)\n",
        "        # Extract the details if they are found\n",
        "        title = title_match.group(1) if title_match else \"N/A\"\n",
        "        description = description_match.group(1) if description_match else \"N/A\"\n",
        "        brand = brand_match.group(1) if brand_match else \"N/A\"\n",
        "        retailer = retailer_match.group(1) if retailer_match else \"N/A\"\n",
        "        source = source_match.group(1) if source_match else \"N/A\"\n",
        "        comments = comments_match.group(1) if comments_match else \"N/A\"\n",
        "        product_info.append({\n",
        "            \"Title\": title,\n",
        "            \"Description\": description,\n",
        "            \"Brand\": brand,\n",
        "            \"Retailer\": retailer,\n",
        "            \"Source\": source,\n",
        "            \"Comments\": comments\n",
        "        })\n",
        "    return product_info\n",
        "\n",
        "def fetch_perplexity_products(query, csv_filename, product_num=10):\n",
        "    \"\"\"\n",
        "    For a given query, fetch the top product_num best products using the Perplexity API,\n",
        "    extract product information from the structured response, and save the results to a CSV file.\n",
        "\n",
        "    Parameters:\n",
        "        query (str): The base query string.\n",
        "        csv_filename (str): The output CSV file name.\n",
        "        product_num (int): The number of products to fetch. Default is 20.\n",
        "\n",
        "    Returns:\n",
        "        pd.DataFrame: DataFrame containing the extracted product info.\n",
        "    \"\"\"\n",
        "    data = []\n",
        "    # Build the full query prompt by inserting the query.\n",
        "    full_query = f\"\"\"\n",
        "    Provide the top {product_num} {query}.\n",
        "    For each product, return the following details in this exact format:\n",
        "\n",
        "    Product Title: [Title]\n",
        "    Description: [Description]\n",
        "    Brand: [Brand]\n",
        "    Retailer: [Retailer]\n",
        "    Source URL: [URL]\n",
        "    Comments: [Comments]\n",
        "\n",
        "    Make sure to return the details for all products in the exact format above, one after the other.\n",
        "    IMPORTANT: Please include data for all these keys.\n",
        "    \"\"\"\n",
        "\n",
        "    print(f\"Perplexity Web Searching: {full_query}\")\n",
        "\n",
        "    try:\n",
        "        response = client_sync.search(\n",
        "            query=full_query,\n",
        "            model='o3-mini-high',\n",
        "            response_language=\"en\",\n",
        "            answer_type=\"text\"\n",
        "        )\n",
        "        print(\"API Response:\", response)\n",
        "        # Get the LLM response text.\n",
        "        response_text = response.get(\"llm_response\", \"\")\n",
        "        # Extract product information using your helper function.\n",
        "        product_info = extract_product_info(response_text)\n",
        "        # If product info was found, append it to data with a common timestamp.\n",
        "        if product_info:\n",
        "            timestamp = datetime.now(local_tz).strftime(\"%Y-%m-%d %H:%M:%S\")\n",
        "            for info in product_info:\n",
        "                data.append({\n",
        "                    \"Search Source\": \"Perplexity\",\n",
        "                    \"Title\": info[\"Title\"],\n",
        "                    \"Description\": info[\"Description\"],\n",
        "                    \"Brand\": info[\"Brand\"],\n",
        "                    \"Retailer\": info[\"Retailer\"],\n",
        "                    \"Source\": info[\"Source\"],\n",
        "                    \"Comments\": info[\"Comments\"],\n",
        "                    \"Query\": query,\n",
        "                    \"Timestamp\": timestamp\n",
        "                })\n",
        "            time.sleep(2)\n",
        "    except Exception as e:\n",
        "        print(f\"Error during Perplexity API call for {query}: {e}\")\n",
        "\n",
        "    if data:\n",
        "        df = pd.DataFrame(data)\n",
        "        df.to_csv(csv_filename, index=False)\n",
        "        print(f\"CSV file saved successfully as '{csv_filename}'!\")\n",
        "    else:\n",
        "        print(\"No data was collected. Please check your API key, network connection, and query parameters.\")\n",
        "        return pd.DataFrame()"
      ],
      "metadata": {
        "id": "e1luXEz8E5rw"
      },
      "execution_count": null,
      "outputs": []
    },
    {
      "cell_type": "code",
      "source": [
        "from urllib.parse import urlparse, urlunparse\n",
        "\n",
        "def normalize_url(url):\n",
        "    try:\n",
        "        parsed = urlparse(url)\n",
        "        clean_url = urlunparse((parsed.scheme, parsed.netloc, parsed.path.rstrip(\"/\"), '', '', ''))\n",
        "        return clean_url.lower()\n",
        "    except:\n",
        "        return str(url).lower().strip()\n",
        "\n",
        "def compare_2_urls_by_category(googlefile, llmfile, plot=False):\n",
        "    df1 = pd.read_csv(googlefile)\n",
        "    df2 = pd.read_csv(llmfile)\n",
        "\n",
        "    # Add a new column \"Normalized URL\" by applying the normalize_url function on \"Source\"\n",
        "    df1[\"Normalized URL\"] = df1[\"Source\"].apply(normalize_url)\n",
        "    df2[\"Normalized URL\"] = df2[\"Source\"].apply(normalize_url)\n",
        "\n",
        "    all_categories = sorted(set(df1[\"Category\"].unique()) | set(df2[\"Category\"].unique()))\n",
        "    summary = []\n",
        "\n",
        "    for category in all_categories:\n",
        "        # Filter rows by category.\n",
        "        urls1 = df1[df1[\"Category\"] == category]\n",
        "        urls2 = df2[df2[\"Category\"] == category]\n",
        "\n",
        "        # Compute sets of normalized URLs.\n",
        "        urls1_set = set(urls1[\"Normalized URL\"].dropna().unique())\n",
        "        urls2_set = set(urls2[\"Normalized URL\"].dropna().unique())\n",
        "\n",
        "        common = urls1_set & urls2_set\n",
        "        only_in_1 = urls1_set - urls2_set\n",
        "        only_in_2 = urls2_set - urls1_set\n",
        "\n",
        "        total_unique = len(urls1_set | urls2_set)\n",
        "        overlap_rate = len(common) / total_unique if total_unique > 0 else 0\n",
        "\n",
        "        summary.append({\n",
        "            \"Category\": category,\n",
        "            \"URLs in Google Search Result\": len(urls1_set),\n",
        "            \"URLs in LLM result\": len(urls2_set),\n",
        "            \"Common URLs\": len(common),\n",
        "            \"Highest Source Rank of Common URLs in Google Search Results\": urls1[urls1['Normalized URL'].isin(common)]['Source Rank'].min() if common else \"N/A\",\n",
        "            \"Overlap Rate\": f\"{round(overlap_rate, 2)*100}%\"\n",
        "        })\n",
        "\n",
        "        print(f\"\\n📦 Category: {category}\")\n",
        "        print(f\"✅ Common URLs: {len(common)}\")\n",
        "        if len(common) > 0:\n",
        "            print(f\"Highest Source Rank of the Common URLs in Google Search results: {urls1[urls1['Normalized URL'].isin(common)]['Source Rank'].min()}\")\n",
        "\n",
        "        print(f\"\\n🔴 Only in {googlefile} ({len(only_in_1)}):\")\n",
        "        print(\n",
        "            urls1[urls1[\"Normalized URL\"].isin(only_in_1)]\n",
        "            [[\"Source\", \"Source Rank\"]]\n",
        "            .drop_duplicates(subset=\"Source\")\n",
        "            .sort_values(\"Source Rank\")\n",
        "        )\n",
        "\n",
        "        print(f\"\\n🔵 Only in {llmfile} ({len(only_in_2)}):\")\n",
        "        print(\n",
        "            urls2[urls2[\"Normalized URL\"].isin(only_in_2)]\n",
        "            # [[\"Source\", \"Source Rank\"]]\n",
        "            [[\"Source\"]]\n",
        "            .drop_duplicates(subset=\"Source\")\n",
        "            # .sort_values(\"Source Rank\")\n",
        "        )\n",
        "\n",
        "        if plot:\n",
        "            venn2([urls1_set, urls2_set], set_labels=(\"Google Search URLs\", \"Open Perplexity URLs\"))\n",
        "            plt.title(f\"URL Overlap for {category}\")\n",
        "            plt.show()\n",
        "\n",
        "    result_df = pd.DataFrame(summary)\n",
        "    return result_df"
      ],
      "metadata": {
        "id": "7bA-bSyC-Tsq"
      },
      "execution_count": null,
      "outputs": []
    },
    {
      "cell_type": "markdown",
      "source": [
        "### Five Categories"
      ],
      "metadata": {
        "id": "A4bLC3tnvGJR"
      }
    },
    {
      "cell_type": "code",
      "source": [
        "local_tz = pytz.timezone(\"America/Toronto\")\n",
        "\n",
        "def save_serpapi_urls_to_csv(query, num_results=10, output_filename=\"serpapi_sources.csv\"):\n",
        "    timestamp = datetime.now(local_tz).strftime(\"%Y-%m-%d %H:%M:%S\")\n",
        "    urls = get_serpapi_urls(query, num_results=num_results)\n",
        "\n",
        "    with open(output_filename, mode=\"w\", newline=\"\", encoding=\"utf-8\") as file:\n",
        "        writer = csv.writer(file)\n",
        "        writer.writerow([\"Query\", \"Source\", \"Source Rank\", \"Timestamp\", \"Search Source\"])\n",
        "\n",
        "        for rank, url in enumerate(urls, start=1):\n",
        "            writer.writerow([query, url, rank, timestamp, \"Google Search\"])\n",
        "\n",
        "    print(f\"✅ CSV file saved as: {output_filename}\")"
      ],
      "metadata": {
        "id": "Ejlz-CP44b2b"
      },
      "execution_count": null,
      "outputs": []
    },
    {
      "cell_type": "code",
      "source": [
        "query = \"best instant coffee\"\n",
        "get_serpapi_urls(query, num_results=10)\n",
        "# save_serpapi_urls_to_csv(query, num_results=10, output_filename=\"GoogleSearch_instant_coffee.csv\")\n",
        "# fetch_perplexity_products(query, csv_filename = \"perplex_instant_coffee.csv\", product_num=10)"
      ],
      "metadata": {
        "colab": {
          "base_uri": "https://localhost:8080/"
        },
        "id": "wAiqpC_bU0pG",
        "outputId": "528613c1-1631-4e93-c675-c2c19d482915"
      },
      "execution_count": null,
      "outputs": [
        {
          "output_type": "execute_result",
          "data": {
            "text/plain": [
              "['https://www.bonappetit.com/story/best-instant-coffee?srsltid=AfmBOoqJzh3ZyVIWuoVPxk9tQ8nPlw6roNwREo8E7X9j1nB-O66H5P2k',\n",
              " 'https://www.reddit.com/r/Coffee/comments/y9cjhe/are_there_any_good_instant_coffees/',\n",
              " 'https://www.tastingtable.com/1755382/instant-coffee-brands-ranked-worst-best/',\n",
              " 'https://www.theguardian.com/food/2024/apr/10/best-instant-coffee-brands-supermarket-taste-test-australia',\n",
              " 'https://sporked.com/article/best-instant-coffee/',\n",
              " 'https://www.outdoorlife.com/gear/best-instant-coffee-for-backpacking/',\n",
              " 'https://www.businessinsider.com/best-instant-coffee-at-grocery-store-taste-test-barista',\n",
              " 'https://www.bogleheads.org/forum/viewtopic.php?t=433334',\n",
              " 'https://www.costco.com/instant-coffee.html']"
            ]
          },
          "metadata": {},
          "execution_count": 17
        }
      ]
    },
    {
      "cell_type": "code",
      "source": [
        "query = \"best baking ingredients\"\n",
        "save_serpapi_urls_to_csv(query, num_results=10, output_filename=\"GoogleSearch_baking_ingredients.csv\")\n",
        "# fetch_perplexity_products(query, csv_filename = \"perplex_baking_ingredients.csv\", product_num=10)"
      ],
      "metadata": {
        "colab": {
          "base_uri": "https://localhost:8080/"
        },
        "id": "0-ZGz1tC5o4n",
        "outputId": "2fb207fb-10ce-4466-f91c-7c8999b66266"
      },
      "execution_count": null,
      "outputs": [
        {
          "output_type": "stream",
          "name": "stdout",
          "text": [
            "✅ CSV file saved as: GoogleSearch_baking_ingredients.csv\n"
          ]
        }
      ]
    },
    {
      "cell_type": "code",
      "source": [
        "query = \"best cat food\"\n",
        "save_serpapi_urls_to_csv(query, num_results=10, output_filename=\"GoogleSearch_cat_food.csv\")\n",
        "# fetch_perplexity_products(query, csv_filename = \"perplex_cat_food.csv\", product_num=10)"
      ],
      "metadata": {
        "colab": {
          "base_uri": "https://localhost:8080/"
        },
        "id": "M_f-Wol96P8E",
        "outputId": "d0f28500-2f0c-4d96-bc9c-8064a9d602b2"
      },
      "execution_count": null,
      "outputs": [
        {
          "output_type": "stream",
          "name": "stdout",
          "text": [
            "✅ CSV file saved as: GoogleSearch_cat_food.csv\n"
          ]
        }
      ]
    },
    {
      "cell_type": "code",
      "source": [
        "query = \"best dog food\"\n",
        "save_serpapi_urls_to_csv(query, num_results=10, output_filename=\"GoogleSearch_dog_food.csv\")\n",
        "# fetch_perplexity_products(query, csv_filename = \"perplex_dog_food.csv\", product_num=10)"
      ],
      "metadata": {
        "colab": {
          "base_uri": "https://localhost:8080/"
        },
        "id": "p5dT-vix6Qi3",
        "outputId": "4cea81ae-f37d-49cc-dd52-411d8bdc6edd"
      },
      "execution_count": null,
      "outputs": [
        {
          "output_type": "stream",
          "name": "stdout",
          "text": [
            "✅ CSV file saved as: GoogleSearch_dog_food.csv\n",
            "Perplexity Web Searching: \n",
            "    Provide the top 10 best dog food.\n",
            "    For each product, return the following details in this exact format:\n",
            "\n",
            "    Product Title: [Title]\n",
            "    Description: [Description]\n",
            "    Brand: [Brand]\n",
            "    Retailer: [Retailer]\n",
            "    Source URL: [URL]\n",
            "    Comments: [Comments]\n",
            "\n",
            "    Make sure to return the details for all products in the exact format above, one after the other.\n",
            "    IMPORTANT: Please include data for all these keys.\n",
            "    \n",
            "API Response: {'llm_response': \"Product Title: Open Farm Grain-Free Dry Dog Food  \\nDescription: Premium dry dog food with humanely raised, grass-fed beef as the primary protein, offering a balanced nutritional profile with high protein and quality carbohydrates.  \\nBrand: Open Farm  \\nRetailer: Open Farm Online Store  \\nSource URL: https://www.dogfoodadvisor.com/best-dog-foods/best-dry-dog-foods/  \\nComments: Highly recommended for its ethical sourcing and excellent meat-to-vegetable balance, making it suitable for dogs with sensitive stomachs.\\n\\nProduct Title: Redbarn Grain-Free Dry Dog Food  \\nDescription: A wholesome, grain-free recipe that features fresh turkey, chicken, and duck meals, combined with healthy carbohydrates for balanced nutrition.  \\nBrand: Redbarn  \\nRetailer: Redbarn Official Website  \\nSource URL: https://www.dogfoodadvisor.com/best-dog-foods/best-dry-dog-foods/  \\nComments: Praised for its ideal protein blend and fat-to-protein ratio, ideal for maintaining overall canine health.\\n\\nProduct Title: Jinx Dry Dog Food  \\nDescription: A grain-inclusive dry dog food that highlights fresh salmon as its main protein source, complemented by brown rice, sweet potato, and ground peas.  \\nBrand: Jinx  \\nRetailer: Chewy  \\nSource URL: https://www.dogfoodadvisor.com/best-dog-foods/best-dry-dog-foods/  \\nComments: Celebrated for its flavorful salmon recipe and thoughtfully crafted nutrient profile that supports a healthy lifestyle for dogs.\\n\\nProduct Title: A Pup Above Whole Food Cubies  \\nDescription: Convenient dehydrated dog food cubes made with real chicken and natural ingredients, designed for on-the-go feeding and training sessions.  \\nBrand: A Pup Above  \\nRetailer: A Pup Above Official Website  \\nSource URL: https://www.dogfoodadvisor.com/best-dog-foods/best-dry-dog-foods/  \\nComments: Admired for its ease of use and nutrient-rich formula, making meal times hassle-free while ensuring quality nutrition.\\n\\nProduct Title: pawTree Real Chicken & Oatmeal Dog Food  \\nDescription: A nutritionally dense, grain-inclusive dry food developed by veterinarians, featuring real chicken and oatmeal to support digestive health.  \\nBrand: pawTree  \\nRetailer: pawTree Online Store  \\nSource URL: https://www.dogfoodadvisor.com/best-dog-foods/best-dry-dog-foods/  \\nComments: Noted for its absence of artificial additives and high digestibility, catering to dogs of all life stages.\\n\\nProduct Title: Wellness Complete Health Dry Dog Food  \\nDescription: A grain-inclusive dry dog food crafted with deboned chicken and chicken meal, balanced with wholesome oats, barley, and nutrient-rich peas.  \\nBrand: Wellness Complete Health  \\nRetailer: Chewy  \\nSource URL: https://www.dogfoodadvisor.com/best-dog-foods/best-dry-dog-foods/  \\nComments: Highly regarded by pet owners and veterinarians for supporting healthy digestion and maintaining optimal weight in adult dogs.\\n\\nProduct Title: Taste of the Wild Dry Dog Food  \\nDescription: A grain-free formulation that utilizes premium proteins from fresh buffalo, chicken, and lamb meals to deliver a robust, natural flavor profile.  \\nBrand: Taste of the Wild  \\nRetailer: Selected Online Retailers  \\nSource URL: https://www.dogfoodadvisor.com/best-dog-foods/best-dry-dog-foods/  \\nComments: Combines multiple high-quality protein sources to create a well-rounded diet that promotes energetic and healthy living.\\n\\nProduct Title: Purina Pro Plan Dry Dog Food  \\nDescription: A premium dog food designed with high-quality ingredients to deliver balanced nutrition, available in various formulas to suit different breeds and sizes.  \\nBrand: Purina Pro Plan  \\nRetailer: Available at Chewy, Amazon, and Walmart  \\nSource URL: https://people.com/best-dog-food-brands-7972766  \\nComments: Highly popular among dog owners for its consistent quality and taste, making it a trusted choice for everyday feeding.\\n\\nProduct Title: Hill's Science Diet Dry Dog Food  \\nDescription: Veterinarian-recommended dry food formulated to support overall health, digestion, and specific dietary needs across different life stages and sizes.  \\nBrand: Hill's Science Diet  \\nRetailer: Available at Chewy, PETCO, and Amazon  \\nSource URL: https://people.com/best-dog-food-brands-7972766  \\nComments: Praised for its superior ingredient quality and effectiveness in managing health issues, though noted for a higher price point.\\n\\nProduct Title: Purina One Dry Dog Food  \\nDescription: An affordable yet quality formula that emphasizes digestive health and weight management, tailored for dogs with sensitive stomachs.  \\nBrand: Purina One  \\nRetailer: Available at Chewy, Amazon, and Walmart  \\nSource URL: https://people.com/best-dog-food-brands-7972766  \\nComments: Favored by many pet owners for its balance of cost-effectiveness and nutritional benefits, particularly for dogs prone to digestive concerns.\", 'sources': [], 'images': [], 'response_time': 29.31, 'error': None}\n",
            "CSV file saved successfully as 'perplex_dog_food.csv'!\n"
          ]
        }
      ]
    },
    {
      "cell_type": "code",
      "source": [
        "query = \"best cat litter\"\n",
        "save_serpapi_urls_to_csv(query, num_results=10, output_filename=\"GoogleSearch_cat_litter.csv\")\n",
        "# fetch_perplexity_products(query, csv_filename = \"perplex_cat_litter.csv\", product_num=10)"
      ],
      "metadata": {
        "colab": {
          "base_uri": "https://localhost:8080/"
        },
        "id": "Q6RclCRI6Ref",
        "outputId": "9b06240d-35c5-4d2d-dc1b-bc760e8daafa"
      },
      "execution_count": null,
      "outputs": [
        {
          "output_type": "stream",
          "name": "stdout",
          "text": [
            "✅ CSV file saved as: GoogleSearch_cat_litter.csv\n"
          ]
        }
      ]
    },
    {
      "cell_type": "markdown",
      "source": [
        "### Merge five categories"
      ],
      "metadata": {
        "id": "LjgGNW5_OdzK"
      }
    },
    {
      "cell_type": "code",
      "source": [
        "csv_files = glob.glob(\"GoogleSearch_*.csv\")\n",
        "\n",
        "df_list = []\n",
        "\n",
        "for file in csv_files:\n",
        "    df = pd.read_csv(file)\n",
        "\n",
        "    # Remove prefix and suffix, then replace underscores with spaces.\n",
        "    category_name = file.replace(\"GoogleSearch_\", \"\").replace(\".csv\", \"\").replace(\"_\", \" \")\n",
        "    df[\"Category\"] = category_name\n",
        "    df_list.append(df)\n",
        "\n",
        "merged_perplexity_df = pd.concat(df_list, ignore_index=True)\n",
        "\n",
        "merged_perplexity_df.to_csv(\"merged_GoogleSearch_Data_4_15_1800.csv\", index=False)\n",
        "\n",
        "print(\"All CSV files have been merged into 'merged_GoogleSearch_Data_4_15_1800.csv'.\")"
      ],
      "metadata": {
        "colab": {
          "base_uri": "https://localhost:8080/"
        },
        "id": "pjqncAxj72mg",
        "outputId": "f661d7e8-7df4-4ada-8fbd-5a076d62c03f"
      },
      "execution_count": null,
      "outputs": [
        {
          "output_type": "stream",
          "name": "stdout",
          "text": [
            "All CSV files have been merged into 'merged_GoogleSearch_Data_4_15_1800.csv'.\n"
          ]
        }
      ]
    },
    {
      "cell_type": "code",
      "source": [
        "# csv_files = glob.glob(\"perplex_*.csv\")\n",
        "\n",
        "# df_list = []\n",
        "\n",
        "# for file in csv_files:\n",
        "#     df = pd.read_csv(file)\n",
        "\n",
        "#     # Remove prefix and suffix, then replace underscores with spaces.\n",
        "#     category_name = file.replace(\"perplex_\", \"\").replace(\".csv\", \"\").replace(\"_\", \" \")\n",
        "#     df[\"Category\"] = category_name\n",
        "#     df_list.append(df)\n",
        "\n",
        "# merged_perplexity_df = pd.concat(df_list, ignore_index=True)\n",
        "\n",
        "# merged_perplexity_df.to_csv(\"merged_perplex_Data_4_8.csv\", index=False)\n",
        "\n",
        "# print(\"All CSV files have been merged into 'merged_perplex_Data_4_8.csv'.\")"
      ],
      "metadata": {
        "colab": {
          "base_uri": "https://localhost:8080/"
        },
        "id": "iFZyfHrv12hg",
        "outputId": "238f3f29-ffc5-42db-b624-8fb5354a4e3c"
      },
      "execution_count": null,
      "outputs": [
        {
          "output_type": "stream",
          "name": "stdout",
          "text": [
            "All CSV files have been merged into 'merged_perplex_Data_4_8.csv'.\n"
          ]
        }
      ]
    },
    {
      "cell_type": "markdown",
      "source": [
        "### Comparison"
      ],
      "metadata": {
        "id": "WQQ3598p_aeq"
      }
    },
    {
      "cell_type": "code",
      "source": [
        "compare_2_urls_by_category('merged_GoogleSearch_Data_4_10.csv', 'merged_GoogleSearch_Data_4_15_1652.csv', plot=False)"
      ],
      "metadata": {
        "colab": {
          "base_uri": "https://localhost:8080/",
          "height": 1000
        },
        "id": "dB7JoF6D_b1V",
        "outputId": "6d90c414-eb67-4728-9f0b-78ef0ce342a0"
      },
      "execution_count": null,
      "outputs": [
        {
          "output_type": "stream",
          "name": "stdout",
          "text": [
            "\n",
            "📦 Category: baking ingredients\n",
            "✅ Common URLs: 8\n",
            "Highest Source Rank of the Common URLs in Google Search results: 1\n",
            "\n",
            "🔴 Only in merged_GoogleSearch_Data_4_10.csv (0):\n",
            "Empty DataFrame\n",
            "Columns: [Source, Source Rank]\n",
            "Index: []\n",
            "\n",
            "🔵 Only in merged_GoogleSearch_Data_4_15_1652.csv (0):\n",
            "Empty DataFrame\n",
            "Columns: [Source]\n",
            "Index: []\n",
            "\n",
            "📦 Category: cat food\n",
            "✅ Common URLs: 6\n",
            "Highest Source Rank of the Common URLs in Google Search results: 2\n",
            "\n",
            "🔴 Only in merged_GoogleSearch_Data_4_10.csv (3):\n",
            "                                              Source  Source Rank\n",
            "0  https://www.forbes.com/sites/forbes-personal-s...            1\n",
            "5  https://www.reddit.com/r/CatAdvice/comments/1c...            6\n",
            "7                    https://www.catfoodadvisor.com/            8\n",
            "\n",
            "🔵 Only in merged_GoogleSearch_Data_4_15_1652.csv (2):\n",
            "                                              Source\n",
            "5  https://www.quora.com/Which-brands-of-cat-food...\n",
            "6  https://www.youtube.com/playlist?list=PLQgNJka...\n",
            "\n",
            "📦 Category: cat litter\n",
            "✅ Common URLs: 8\n",
            "Highest Source Rank of the Common URLs in Google Search results: 1\n",
            "\n",
            "🔴 Only in merged_GoogleSearch_Data_4_10.csv (1):\n",
            "                                               Source  Source Rank\n",
            "34  https://www.quora.com/What-are-the-best-cat-li...            7\n",
            "\n",
            "🔵 Only in merged_GoogleSearch_Data_4_15_1652.csv (0):\n",
            "Empty DataFrame\n",
            "Columns: [Source]\n",
            "Index: []\n",
            "\n",
            "📦 Category: dog food\n",
            "✅ Common URLs: 7\n",
            "Highest Source Rank of the Common URLs in Google Search results: 1\n",
            "\n",
            "🔴 Only in merged_GoogleSearch_Data_4_10.csv (3):\n",
            "                                               Source  Source Rank\n",
            "12  https://www.reddit.com/r/Dogowners/comments/1i...            4\n",
            "16  https://www.amazon.com/Best-Sellers-Dog-Food/z...            8\n",
            "18  https://www.target.com/c/dog-food-supplies-pet...           10\n",
            "\n",
            "🔵 Only in merged_GoogleSearch_Data_4_15_1652.csv (1):\n",
            "                                               Source\n",
            "18  https://www.reddit.com/r/dogs/comments/1hxb7fu...\n",
            "\n",
            "📦 Category: instant coffee\n",
            "✅ Common URLs: 8\n",
            "Highest Source Rank of the Common URLs in Google Search results: 1\n",
            "\n",
            "🔴 Only in merged_GoogleSearch_Data_4_10.csv (1):\n",
            "                                               Source  Source Rank\n",
            "26  https://www.bogleheads.org/forum/viewtopic.php...            8\n",
            "\n",
            "🔵 Only in merged_GoogleSearch_Data_4_15_1652.csv (1):\n",
            "                                               Source\n",
            "37  https://www.outdoorlife.com/gear/best-instant-...\n"
          ]
        },
        {
          "output_type": "execute_result",
          "data": {
            "text/plain": [
              "             Category  URLs in Google Search Result  URLs in LLM result  \\\n",
              "0  baking ingredients                             8                   8   \n",
              "1            cat food                             9                   8   \n",
              "2          cat litter                             9                   8   \n",
              "3            dog food                            10                   8   \n",
              "4      instant coffee                             9                   9   \n",
              "\n",
              "   Common URLs  Highest Source Rank of Common URLs in Google Search Results  \\\n",
              "0            8                                                  1             \n",
              "1            6                                                  2             \n",
              "2            8                                                  1             \n",
              "3            7                                                  1             \n",
              "4            8                                                  1             \n",
              "\n",
              "         Overlap Rate  \n",
              "0              100.0%  \n",
              "1  55.00000000000001%  \n",
              "2               89.0%  \n",
              "3               64.0%  \n",
              "4               80.0%  "
            ],
            "text/html": [
              "\n",
              "  <div id=\"df-78955217-f7b8-4d85-b704-b393d7aa3e8c\" class=\"colab-df-container\">\n",
              "    <div>\n",
              "<style scoped>\n",
              "    .dataframe tbody tr th:only-of-type {\n",
              "        vertical-align: middle;\n",
              "    }\n",
              "\n",
              "    .dataframe tbody tr th {\n",
              "        vertical-align: top;\n",
              "    }\n",
              "\n",
              "    .dataframe thead th {\n",
              "        text-align: right;\n",
              "    }\n",
              "</style>\n",
              "<table border=\"1\" class=\"dataframe\">\n",
              "  <thead>\n",
              "    <tr style=\"text-align: right;\">\n",
              "      <th></th>\n",
              "      <th>Category</th>\n",
              "      <th>URLs in Google Search Result</th>\n",
              "      <th>URLs in LLM result</th>\n",
              "      <th>Common URLs</th>\n",
              "      <th>Highest Source Rank of Common URLs in Google Search Results</th>\n",
              "      <th>Overlap Rate</th>\n",
              "    </tr>\n",
              "  </thead>\n",
              "  <tbody>\n",
              "    <tr>\n",
              "      <th>0</th>\n",
              "      <td>baking ingredients</td>\n",
              "      <td>8</td>\n",
              "      <td>8</td>\n",
              "      <td>8</td>\n",
              "      <td>1</td>\n",
              "      <td>100.0%</td>\n",
              "    </tr>\n",
              "    <tr>\n",
              "      <th>1</th>\n",
              "      <td>cat food</td>\n",
              "      <td>9</td>\n",
              "      <td>8</td>\n",
              "      <td>6</td>\n",
              "      <td>2</td>\n",
              "      <td>55.00000000000001%</td>\n",
              "    </tr>\n",
              "    <tr>\n",
              "      <th>2</th>\n",
              "      <td>cat litter</td>\n",
              "      <td>9</td>\n",
              "      <td>8</td>\n",
              "      <td>8</td>\n",
              "      <td>1</td>\n",
              "      <td>89.0%</td>\n",
              "    </tr>\n",
              "    <tr>\n",
              "      <th>3</th>\n",
              "      <td>dog food</td>\n",
              "      <td>10</td>\n",
              "      <td>8</td>\n",
              "      <td>7</td>\n",
              "      <td>1</td>\n",
              "      <td>64.0%</td>\n",
              "    </tr>\n",
              "    <tr>\n",
              "      <th>4</th>\n",
              "      <td>instant coffee</td>\n",
              "      <td>9</td>\n",
              "      <td>9</td>\n",
              "      <td>8</td>\n",
              "      <td>1</td>\n",
              "      <td>80.0%</td>\n",
              "    </tr>\n",
              "  </tbody>\n",
              "</table>\n",
              "</div>\n",
              "    <div class=\"colab-df-buttons\">\n",
              "\n",
              "  <div class=\"colab-df-container\">\n",
              "    <button class=\"colab-df-convert\" onclick=\"convertToInteractive('df-78955217-f7b8-4d85-b704-b393d7aa3e8c')\"\n",
              "            title=\"Convert this dataframe to an interactive table.\"\n",
              "            style=\"display:none;\">\n",
              "\n",
              "  <svg xmlns=\"http://www.w3.org/2000/svg\" height=\"24px\" viewBox=\"0 -960 960 960\">\n",
              "    <path d=\"M120-120v-720h720v720H120Zm60-500h600v-160H180v160Zm220 220h160v-160H400v160Zm0 220h160v-160H400v160ZM180-400h160v-160H180v160Zm440 0h160v-160H620v160ZM180-180h160v-160H180v160Zm440 0h160v-160H620v160Z\"/>\n",
              "  </svg>\n",
              "    </button>\n",
              "\n",
              "  <style>\n",
              "    .colab-df-container {\n",
              "      display:flex;\n",
              "      gap: 12px;\n",
              "    }\n",
              "\n",
              "    .colab-df-convert {\n",
              "      background-color: #E8F0FE;\n",
              "      border: none;\n",
              "      border-radius: 50%;\n",
              "      cursor: pointer;\n",
              "      display: none;\n",
              "      fill: #1967D2;\n",
              "      height: 32px;\n",
              "      padding: 0 0 0 0;\n",
              "      width: 32px;\n",
              "    }\n",
              "\n",
              "    .colab-df-convert:hover {\n",
              "      background-color: #E2EBFA;\n",
              "      box-shadow: 0px 1px 2px rgba(60, 64, 67, 0.3), 0px 1px 3px 1px rgba(60, 64, 67, 0.15);\n",
              "      fill: #174EA6;\n",
              "    }\n",
              "\n",
              "    .colab-df-buttons div {\n",
              "      margin-bottom: 4px;\n",
              "    }\n",
              "\n",
              "    [theme=dark] .colab-df-convert {\n",
              "      background-color: #3B4455;\n",
              "      fill: #D2E3FC;\n",
              "    }\n",
              "\n",
              "    [theme=dark] .colab-df-convert:hover {\n",
              "      background-color: #434B5C;\n",
              "      box-shadow: 0px 1px 3px 1px rgba(0, 0, 0, 0.15);\n",
              "      filter: drop-shadow(0px 1px 2px rgba(0, 0, 0, 0.3));\n",
              "      fill: #FFFFFF;\n",
              "    }\n",
              "  </style>\n",
              "\n",
              "    <script>\n",
              "      const buttonEl =\n",
              "        document.querySelector('#df-78955217-f7b8-4d85-b704-b393d7aa3e8c button.colab-df-convert');\n",
              "      buttonEl.style.display =\n",
              "        google.colab.kernel.accessAllowed ? 'block' : 'none';\n",
              "\n",
              "      async function convertToInteractive(key) {\n",
              "        const element = document.querySelector('#df-78955217-f7b8-4d85-b704-b393d7aa3e8c');\n",
              "        const dataTable =\n",
              "          await google.colab.kernel.invokeFunction('convertToInteractive',\n",
              "                                                    [key], {});\n",
              "        if (!dataTable) return;\n",
              "\n",
              "        const docLinkHtml = 'Like what you see? Visit the ' +\n",
              "          '<a target=\"_blank\" href=https://colab.research.google.com/notebooks/data_table.ipynb>data table notebook</a>'\n",
              "          + ' to learn more about interactive tables.';\n",
              "        element.innerHTML = '';\n",
              "        dataTable['output_type'] = 'display_data';\n",
              "        await google.colab.output.renderOutput(dataTable, element);\n",
              "        const docLink = document.createElement('div');\n",
              "        docLink.innerHTML = docLinkHtml;\n",
              "        element.appendChild(docLink);\n",
              "      }\n",
              "    </script>\n",
              "  </div>\n",
              "\n",
              "\n",
              "<div id=\"df-01713489-5f59-49d6-8646-6fbc53465af2\">\n",
              "  <button class=\"colab-df-quickchart\" onclick=\"quickchart('df-01713489-5f59-49d6-8646-6fbc53465af2')\"\n",
              "            title=\"Suggest charts\"\n",
              "            style=\"display:none;\">\n",
              "\n",
              "<svg xmlns=\"http://www.w3.org/2000/svg\" height=\"24px\"viewBox=\"0 0 24 24\"\n",
              "     width=\"24px\">\n",
              "    <g>\n",
              "        <path d=\"M19 3H5c-1.1 0-2 .9-2 2v14c0 1.1.9 2 2 2h14c1.1 0 2-.9 2-2V5c0-1.1-.9-2-2-2zM9 17H7v-7h2v7zm4 0h-2V7h2v10zm4 0h-2v-4h2v4z\"/>\n",
              "    </g>\n",
              "</svg>\n",
              "  </button>\n",
              "\n",
              "<style>\n",
              "  .colab-df-quickchart {\n",
              "      --bg-color: #E8F0FE;\n",
              "      --fill-color: #1967D2;\n",
              "      --hover-bg-color: #E2EBFA;\n",
              "      --hover-fill-color: #174EA6;\n",
              "      --disabled-fill-color: #AAA;\n",
              "      --disabled-bg-color: #DDD;\n",
              "  }\n",
              "\n",
              "  [theme=dark] .colab-df-quickchart {\n",
              "      --bg-color: #3B4455;\n",
              "      --fill-color: #D2E3FC;\n",
              "      --hover-bg-color: #434B5C;\n",
              "      --hover-fill-color: #FFFFFF;\n",
              "      --disabled-bg-color: #3B4455;\n",
              "      --disabled-fill-color: #666;\n",
              "  }\n",
              "\n",
              "  .colab-df-quickchart {\n",
              "    background-color: var(--bg-color);\n",
              "    border: none;\n",
              "    border-radius: 50%;\n",
              "    cursor: pointer;\n",
              "    display: none;\n",
              "    fill: var(--fill-color);\n",
              "    height: 32px;\n",
              "    padding: 0;\n",
              "    width: 32px;\n",
              "  }\n",
              "\n",
              "  .colab-df-quickchart:hover {\n",
              "    background-color: var(--hover-bg-color);\n",
              "    box-shadow: 0 1px 2px rgba(60, 64, 67, 0.3), 0 1px 3px 1px rgba(60, 64, 67, 0.15);\n",
              "    fill: var(--button-hover-fill-color);\n",
              "  }\n",
              "\n",
              "  .colab-df-quickchart-complete:disabled,\n",
              "  .colab-df-quickchart-complete:disabled:hover {\n",
              "    background-color: var(--disabled-bg-color);\n",
              "    fill: var(--disabled-fill-color);\n",
              "    box-shadow: none;\n",
              "  }\n",
              "\n",
              "  .colab-df-spinner {\n",
              "    border: 2px solid var(--fill-color);\n",
              "    border-color: transparent;\n",
              "    border-bottom-color: var(--fill-color);\n",
              "    animation:\n",
              "      spin 1s steps(1) infinite;\n",
              "  }\n",
              "\n",
              "  @keyframes spin {\n",
              "    0% {\n",
              "      border-color: transparent;\n",
              "      border-bottom-color: var(--fill-color);\n",
              "      border-left-color: var(--fill-color);\n",
              "    }\n",
              "    20% {\n",
              "      border-color: transparent;\n",
              "      border-left-color: var(--fill-color);\n",
              "      border-top-color: var(--fill-color);\n",
              "    }\n",
              "    30% {\n",
              "      border-color: transparent;\n",
              "      border-left-color: var(--fill-color);\n",
              "      border-top-color: var(--fill-color);\n",
              "      border-right-color: var(--fill-color);\n",
              "    }\n",
              "    40% {\n",
              "      border-color: transparent;\n",
              "      border-right-color: var(--fill-color);\n",
              "      border-top-color: var(--fill-color);\n",
              "    }\n",
              "    60% {\n",
              "      border-color: transparent;\n",
              "      border-right-color: var(--fill-color);\n",
              "    }\n",
              "    80% {\n",
              "      border-color: transparent;\n",
              "      border-right-color: var(--fill-color);\n",
              "      border-bottom-color: var(--fill-color);\n",
              "    }\n",
              "    90% {\n",
              "      border-color: transparent;\n",
              "      border-bottom-color: var(--fill-color);\n",
              "    }\n",
              "  }\n",
              "</style>\n",
              "\n",
              "  <script>\n",
              "    async function quickchart(key) {\n",
              "      const quickchartButtonEl =\n",
              "        document.querySelector('#' + key + ' button');\n",
              "      quickchartButtonEl.disabled = true;  // To prevent multiple clicks.\n",
              "      quickchartButtonEl.classList.add('colab-df-spinner');\n",
              "      try {\n",
              "        const charts = await google.colab.kernel.invokeFunction(\n",
              "            'suggestCharts', [key], {});\n",
              "      } catch (error) {\n",
              "        console.error('Error during call to suggestCharts:', error);\n",
              "      }\n",
              "      quickchartButtonEl.classList.remove('colab-df-spinner');\n",
              "      quickchartButtonEl.classList.add('colab-df-quickchart-complete');\n",
              "    }\n",
              "    (() => {\n",
              "      let quickchartButtonEl =\n",
              "        document.querySelector('#df-01713489-5f59-49d6-8646-6fbc53465af2 button');\n",
              "      quickchartButtonEl.style.display =\n",
              "        google.colab.kernel.accessAllowed ? 'block' : 'none';\n",
              "    })();\n",
              "  </script>\n",
              "</div>\n",
              "\n",
              "    </div>\n",
              "  </div>\n"
            ],
            "application/vnd.google.colaboratory.intrinsic+json": {
              "type": "dataframe",
              "summary": "{\n  \"name\": \"compare_2_urls_by_category('merged_GoogleSearch_Data_4_10\",\n  \"rows\": 5,\n  \"fields\": [\n    {\n      \"column\": \"Category\",\n      \"properties\": {\n        \"dtype\": \"string\",\n        \"num_unique_values\": 5,\n        \"samples\": [\n          \"cat food\",\n          \"instant coffee\",\n          \"cat litter\"\n        ],\n        \"semantic_type\": \"\",\n        \"description\": \"\"\n      }\n    },\n    {\n      \"column\": \"URLs in Google Search Result\",\n      \"properties\": {\n        \"dtype\": \"number\",\n        \"std\": 0,\n        \"min\": 8,\n        \"max\": 10,\n        \"num_unique_values\": 3,\n        \"samples\": [\n          8,\n          9,\n          10\n        ],\n        \"semantic_type\": \"\",\n        \"description\": \"\"\n      }\n    },\n    {\n      \"column\": \"URLs in LLM result\",\n      \"properties\": {\n        \"dtype\": \"number\",\n        \"std\": 0,\n        \"min\": 8,\n        \"max\": 9,\n        \"num_unique_values\": 2,\n        \"samples\": [\n          9,\n          8\n        ],\n        \"semantic_type\": \"\",\n        \"description\": \"\"\n      }\n    },\n    {\n      \"column\": \"Common URLs\",\n      \"properties\": {\n        \"dtype\": \"number\",\n        \"std\": 0,\n        \"min\": 6,\n        \"max\": 8,\n        \"num_unique_values\": 3,\n        \"samples\": [\n          8,\n          6\n        ],\n        \"semantic_type\": \"\",\n        \"description\": \"\"\n      }\n    },\n    {\n      \"column\": \"Highest Source Rank of Common URLs in Google Search Results\",\n      \"properties\": {\n        \"dtype\": \"number\",\n        \"std\": 0,\n        \"min\": 1,\n        \"max\": 2,\n        \"num_unique_values\": 2,\n        \"samples\": [\n          2,\n          1\n        ],\n        \"semantic_type\": \"\",\n        \"description\": \"\"\n      }\n    },\n    {\n      \"column\": \"Overlap Rate\",\n      \"properties\": {\n        \"dtype\": \"string\",\n        \"num_unique_values\": 5,\n        \"samples\": [\n          \"55.00000000000001%\",\n          \"80.0%\"\n        ],\n        \"semantic_type\": \"\",\n        \"description\": \"\"\n      }\n    }\n  ]\n}"
            }
          },
          "metadata": {},
          "execution_count": 38
        }
      ]
    }
  ]
}